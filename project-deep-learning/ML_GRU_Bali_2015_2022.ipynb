{
  "nbformat": 4,
  "nbformat_minor": 0,
  "metadata": {
    "colab": {
      "provenance": [],
      "toc_visible": true,
      "collapsed_sections": [
        "y7Sqo-D0IRC9",
        "OSlIMcgSJIC1",
        "qmC7JeCDLVHD",
        "vo8s4MmOLdVD",
        "-5wuEAHqLjOn",
        "2JfNJYHMLxXi"
      ]
    },
    "kernelspec": {
      "name": "python3",
      "display_name": "Python 3"
    },
    "language_info": {
      "name": "python"
    }
  },
  "cells": [
    {
      "cell_type": "markdown",
      "source": [
        "# Import Library and Dataset"
      ],
      "metadata": {
        "id": "y7Sqo-D0IRC9"
      }
    },
    {
      "cell_type": "code",
      "execution_count": null,
      "metadata": {
        "id": "m4ybuj4JGUVR"
      },
      "outputs": [],
      "source": [
        "#Load Library\n",
        "import tensorflow as tf\n",
        "import seaborn as sns\n",
        "import numpy as np\n",
        "import pandas as pd\n",
        "import matplotlib.pyplot as plt\n",
        "import sklearn.preprocessing\n",
        "from sklearn.metrics import r2_score\n",
        "from sklearn.preprocessing import MinMaxScaler\n",
        "from sklearn.model_selection import train_test_split\n",
        "from sklearn.metrics import mean_absolute_error, mean_squared_error\n",
        "from tensorflow import keras\n",
        "from tensorflow.keras.callbacks import EarlyStopping\n",
        "from keras.layers import Dense,Dropout,SimpleRNN,LSTM,GRU\n",
        "from keras.models import Sequential\n",
        "from tabulate import tabulate"
      ]
    },
    {
      "cell_type": "code",
      "source": [
        "#Load Dataset\n",
        "from google.colab import files\n",
        "uploaded = files.upload()"
      ],
      "metadata": {
        "colab": {
          "base_uri": "https://localhost:8080/",
          "height": 38
        },
        "id": "aXHciwcRIeJ9",
        "outputId": "dcffbc42-ba04-48c0-bd7b-2460fdc54d6b"
      },
      "execution_count": null,
      "outputs": [
        {
          "output_type": "display_data",
          "data": {
            "text/plain": [
              "<IPython.core.display.HTML object>"
            ],
            "text/html": [
              "\n",
              "     <input type=\"file\" id=\"files-d497b44c-c26d-4946-a785-8c3f68f3fd90\" name=\"files[]\" multiple disabled\n",
              "        style=\"border:none\" />\n",
              "     <output id=\"result-d497b44c-c26d-4946-a785-8c3f68f3fd90\">\n",
              "      Upload widget is only available when the cell has been executed in the\n",
              "      current browser session. Please rerun this cell to enable.\n",
              "      </output>\n",
              "      <script>// Copyright 2017 Google LLC\n",
              "//\n",
              "// Licensed under the Apache License, Version 2.0 (the \"License\");\n",
              "// you may not use this file except in compliance with the License.\n",
              "// You may obtain a copy of the License at\n",
              "//\n",
              "//      http://www.apache.org/licenses/LICENSE-2.0\n",
              "//\n",
              "// Unless required by applicable law or agreed to in writing, software\n",
              "// distributed under the License is distributed on an \"AS IS\" BASIS,\n",
              "// WITHOUT WARRANTIES OR CONDITIONS OF ANY KIND, either express or implied.\n",
              "// See the License for the specific language governing permissions and\n",
              "// limitations under the License.\n",
              "\n",
              "/**\n",
              " * @fileoverview Helpers for google.colab Python module.\n",
              " */\n",
              "(function(scope) {\n",
              "function span(text, styleAttributes = {}) {\n",
              "  const element = document.createElement('span');\n",
              "  element.textContent = text;\n",
              "  for (const key of Object.keys(styleAttributes)) {\n",
              "    element.style[key] = styleAttributes[key];\n",
              "  }\n",
              "  return element;\n",
              "}\n",
              "\n",
              "// Max number of bytes which will be uploaded at a time.\n",
              "const MAX_PAYLOAD_SIZE = 100 * 1024;\n",
              "\n",
              "function _uploadFiles(inputId, outputId) {\n",
              "  const steps = uploadFilesStep(inputId, outputId);\n",
              "  const outputElement = document.getElementById(outputId);\n",
              "  // Cache steps on the outputElement to make it available for the next call\n",
              "  // to uploadFilesContinue from Python.\n",
              "  outputElement.steps = steps;\n",
              "\n",
              "  return _uploadFilesContinue(outputId);\n",
              "}\n",
              "\n",
              "// This is roughly an async generator (not supported in the browser yet),\n",
              "// where there are multiple asynchronous steps and the Python side is going\n",
              "// to poll for completion of each step.\n",
              "// This uses a Promise to block the python side on completion of each step,\n",
              "// then passes the result of the previous step as the input to the next step.\n",
              "function _uploadFilesContinue(outputId) {\n",
              "  const outputElement = document.getElementById(outputId);\n",
              "  const steps = outputElement.steps;\n",
              "\n",
              "  const next = steps.next(outputElement.lastPromiseValue);\n",
              "  return Promise.resolve(next.value.promise).then((value) => {\n",
              "    // Cache the last promise value to make it available to the next\n",
              "    // step of the generator.\n",
              "    outputElement.lastPromiseValue = value;\n",
              "    return next.value.response;\n",
              "  });\n",
              "}\n",
              "\n",
              "/**\n",
              " * Generator function which is called between each async step of the upload\n",
              " * process.\n",
              " * @param {string} inputId Element ID of the input file picker element.\n",
              " * @param {string} outputId Element ID of the output display.\n",
              " * @return {!Iterable<!Object>} Iterable of next steps.\n",
              " */\n",
              "function* uploadFilesStep(inputId, outputId) {\n",
              "  const inputElement = document.getElementById(inputId);\n",
              "  inputElement.disabled = false;\n",
              "\n",
              "  const outputElement = document.getElementById(outputId);\n",
              "  outputElement.innerHTML = '';\n",
              "\n",
              "  const pickedPromise = new Promise((resolve) => {\n",
              "    inputElement.addEventListener('change', (e) => {\n",
              "      resolve(e.target.files);\n",
              "    });\n",
              "  });\n",
              "\n",
              "  const cancel = document.createElement('button');\n",
              "  inputElement.parentElement.appendChild(cancel);\n",
              "  cancel.textContent = 'Cancel upload';\n",
              "  const cancelPromise = new Promise((resolve) => {\n",
              "    cancel.onclick = () => {\n",
              "      resolve(null);\n",
              "    };\n",
              "  });\n",
              "\n",
              "  // Wait for the user to pick the files.\n",
              "  const files = yield {\n",
              "    promise: Promise.race([pickedPromise, cancelPromise]),\n",
              "    response: {\n",
              "      action: 'starting',\n",
              "    }\n",
              "  };\n",
              "\n",
              "  cancel.remove();\n",
              "\n",
              "  // Disable the input element since further picks are not allowed.\n",
              "  inputElement.disabled = true;\n",
              "\n",
              "  if (!files) {\n",
              "    return {\n",
              "      response: {\n",
              "        action: 'complete',\n",
              "      }\n",
              "    };\n",
              "  }\n",
              "\n",
              "  for (const file of files) {\n",
              "    const li = document.createElement('li');\n",
              "    li.append(span(file.name, {fontWeight: 'bold'}));\n",
              "    li.append(span(\n",
              "        `(${file.type || 'n/a'}) - ${file.size} bytes, ` +\n",
              "        `last modified: ${\n",
              "            file.lastModifiedDate ? file.lastModifiedDate.toLocaleDateString() :\n",
              "                                    'n/a'} - `));\n",
              "    const percent = span('0% done');\n",
              "    li.appendChild(percent);\n",
              "\n",
              "    outputElement.appendChild(li);\n",
              "\n",
              "    const fileDataPromise = new Promise((resolve) => {\n",
              "      const reader = new FileReader();\n",
              "      reader.onload = (e) => {\n",
              "        resolve(e.target.result);\n",
              "      };\n",
              "      reader.readAsArrayBuffer(file);\n",
              "    });\n",
              "    // Wait for the data to be ready.\n",
              "    let fileData = yield {\n",
              "      promise: fileDataPromise,\n",
              "      response: {\n",
              "        action: 'continue',\n",
              "      }\n",
              "    };\n",
              "\n",
              "    // Use a chunked sending to avoid message size limits. See b/62115660.\n",
              "    let position = 0;\n",
              "    do {\n",
              "      const length = Math.min(fileData.byteLength - position, MAX_PAYLOAD_SIZE);\n",
              "      const chunk = new Uint8Array(fileData, position, length);\n",
              "      position += length;\n",
              "\n",
              "      const base64 = btoa(String.fromCharCode.apply(null, chunk));\n",
              "      yield {\n",
              "        response: {\n",
              "          action: 'append',\n",
              "          file: file.name,\n",
              "          data: base64,\n",
              "        },\n",
              "      };\n",
              "\n",
              "      let percentDone = fileData.byteLength === 0 ?\n",
              "          100 :\n",
              "          Math.round((position / fileData.byteLength) * 100);\n",
              "      percent.textContent = `${percentDone}% done`;\n",
              "\n",
              "    } while (position < fileData.byteLength);\n",
              "  }\n",
              "\n",
              "  // All done.\n",
              "  yield {\n",
              "    response: {\n",
              "      action: 'complete',\n",
              "    }\n",
              "  };\n",
              "}\n",
              "\n",
              "scope.google = scope.google || {};\n",
              "scope.google.colab = scope.google.colab || {};\n",
              "scope.google.colab._files = {\n",
              "  _uploadFiles,\n",
              "  _uploadFilesContinue,\n",
              "};\n",
              "})(self);\n",
              "</script> "
            ]
          },
          "metadata": {}
        }
      ]
    },
    {
      "cell_type": "markdown",
      "source": [
        "# Processing Data"
      ],
      "metadata": {
        "id": "OSlIMcgSJIC1"
      }
    },
    {
      "cell_type": "code",
      "source": [
        "#Import Data\n",
        "data = pd.read_csv(\"Bali 2015 - 2022.csv\", delimiter=',')\n",
        "data.head(10)"
      ],
      "metadata": {
        "colab": {
          "base_uri": "https://localhost:8080/",
          "height": 362
        },
        "id": "R83T11a5JLXM",
        "outputId": "e6109406-f056-48a2-faa0-bc97d6b73584"
      },
      "execution_count": null,
      "outputs": [
        {
          "output_type": "execute_result",
          "data": {
            "text/plain": [
              "    datetime  total_visitor  total_accomodation\n",
              "0   1/1/2014         279257               16495\n",
              "1   2/1/2014         275795               17221\n",
              "2   3/1/2014         276573               17330\n",
              "3   4/1/2014         280096               17737\n",
              "4   5/1/2014         286033               18836\n",
              "5   6/1/2014         330396               19085\n",
              "6   7/1/2014         361066               19566\n",
              "7   8/1/2014         336763               19933\n",
              "8   9/1/2014         354762               19566\n",
              "9  10/1/2014         341651               19933"
            ],
            "text/html": [
              "\n",
              "  <div id=\"df-3b089059-318b-4abf-9009-97c3b3eb53f1\" class=\"colab-df-container\">\n",
              "    <div>\n",
              "<style scoped>\n",
              "    .dataframe tbody tr th:only-of-type {\n",
              "        vertical-align: middle;\n",
              "    }\n",
              "\n",
              "    .dataframe tbody tr th {\n",
              "        vertical-align: top;\n",
              "    }\n",
              "\n",
              "    .dataframe thead th {\n",
              "        text-align: right;\n",
              "    }\n",
              "</style>\n",
              "<table border=\"1\" class=\"dataframe\">\n",
              "  <thead>\n",
              "    <tr style=\"text-align: right;\">\n",
              "      <th></th>\n",
              "      <th>datetime</th>\n",
              "      <th>total_visitor</th>\n",
              "      <th>total_accomodation</th>\n",
              "    </tr>\n",
              "  </thead>\n",
              "  <tbody>\n",
              "    <tr>\n",
              "      <th>0</th>\n",
              "      <td>1/1/2014</td>\n",
              "      <td>279257</td>\n",
              "      <td>16495</td>\n",
              "    </tr>\n",
              "    <tr>\n",
              "      <th>1</th>\n",
              "      <td>2/1/2014</td>\n",
              "      <td>275795</td>\n",
              "      <td>17221</td>\n",
              "    </tr>\n",
              "    <tr>\n",
              "      <th>2</th>\n",
              "      <td>3/1/2014</td>\n",
              "      <td>276573</td>\n",
              "      <td>17330</td>\n",
              "    </tr>\n",
              "    <tr>\n",
              "      <th>3</th>\n",
              "      <td>4/1/2014</td>\n",
              "      <td>280096</td>\n",
              "      <td>17737</td>\n",
              "    </tr>\n",
              "    <tr>\n",
              "      <th>4</th>\n",
              "      <td>5/1/2014</td>\n",
              "      <td>286033</td>\n",
              "      <td>18836</td>\n",
              "    </tr>\n",
              "    <tr>\n",
              "      <th>5</th>\n",
              "      <td>6/1/2014</td>\n",
              "      <td>330396</td>\n",
              "      <td>19085</td>\n",
              "    </tr>\n",
              "    <tr>\n",
              "      <th>6</th>\n",
              "      <td>7/1/2014</td>\n",
              "      <td>361066</td>\n",
              "      <td>19566</td>\n",
              "    </tr>\n",
              "    <tr>\n",
              "      <th>7</th>\n",
              "      <td>8/1/2014</td>\n",
              "      <td>336763</td>\n",
              "      <td>19933</td>\n",
              "    </tr>\n",
              "    <tr>\n",
              "      <th>8</th>\n",
              "      <td>9/1/2014</td>\n",
              "      <td>354762</td>\n",
              "      <td>19566</td>\n",
              "    </tr>\n",
              "    <tr>\n",
              "      <th>9</th>\n",
              "      <td>10/1/2014</td>\n",
              "      <td>341651</td>\n",
              "      <td>19933</td>\n",
              "    </tr>\n",
              "  </tbody>\n",
              "</table>\n",
              "</div>\n",
              "    <div class=\"colab-df-buttons\">\n",
              "\n",
              "  <div class=\"colab-df-container\">\n",
              "    <button class=\"colab-df-convert\" onclick=\"convertToInteractive('df-3b089059-318b-4abf-9009-97c3b3eb53f1')\"\n",
              "            title=\"Convert this dataframe to an interactive table.\"\n",
              "            style=\"display:none;\">\n",
              "\n",
              "  <svg xmlns=\"http://www.w3.org/2000/svg\" height=\"24px\" viewBox=\"0 -960 960 960\">\n",
              "    <path d=\"M120-120v-720h720v720H120Zm60-500h600v-160H180v160Zm220 220h160v-160H400v160Zm0 220h160v-160H400v160ZM180-400h160v-160H180v160Zm440 0h160v-160H620v160ZM180-180h160v-160H180v160Zm440 0h160v-160H620v160Z\"/>\n",
              "  </svg>\n",
              "    </button>\n",
              "\n",
              "  <style>\n",
              "    .colab-df-container {\n",
              "      display:flex;\n",
              "      gap: 12px;\n",
              "    }\n",
              "\n",
              "    .colab-df-convert {\n",
              "      background-color: #E8F0FE;\n",
              "      border: none;\n",
              "      border-radius: 50%;\n",
              "      cursor: pointer;\n",
              "      display: none;\n",
              "      fill: #1967D2;\n",
              "      height: 32px;\n",
              "      padding: 0 0 0 0;\n",
              "      width: 32px;\n",
              "    }\n",
              "\n",
              "    .colab-df-convert:hover {\n",
              "      background-color: #E2EBFA;\n",
              "      box-shadow: 0px 1px 2px rgba(60, 64, 67, 0.3), 0px 1px 3px 1px rgba(60, 64, 67, 0.15);\n",
              "      fill: #174EA6;\n",
              "    }\n",
              "\n",
              "    .colab-df-buttons div {\n",
              "      margin-bottom: 4px;\n",
              "    }\n",
              "\n",
              "    [theme=dark] .colab-df-convert {\n",
              "      background-color: #3B4455;\n",
              "      fill: #D2E3FC;\n",
              "    }\n",
              "\n",
              "    [theme=dark] .colab-df-convert:hover {\n",
              "      background-color: #434B5C;\n",
              "      box-shadow: 0px 1px 3px 1px rgba(0, 0, 0, 0.15);\n",
              "      filter: drop-shadow(0px 1px 2px rgba(0, 0, 0, 0.3));\n",
              "      fill: #FFFFFF;\n",
              "    }\n",
              "  </style>\n",
              "\n",
              "    <script>\n",
              "      const buttonEl =\n",
              "        document.querySelector('#df-3b089059-318b-4abf-9009-97c3b3eb53f1 button.colab-df-convert');\n",
              "      buttonEl.style.display =\n",
              "        google.colab.kernel.accessAllowed ? 'block' : 'none';\n",
              "\n",
              "      async function convertToInteractive(key) {\n",
              "        const element = document.querySelector('#df-3b089059-318b-4abf-9009-97c3b3eb53f1');\n",
              "        const dataTable =\n",
              "          await google.colab.kernel.invokeFunction('convertToInteractive',\n",
              "                                                    [key], {});\n",
              "        if (!dataTable) return;\n",
              "\n",
              "        const docLinkHtml = 'Like what you see? Visit the ' +\n",
              "          '<a target=\"_blank\" href=https://colab.research.google.com/notebooks/data_table.ipynb>data table notebook</a>'\n",
              "          + ' to learn more about interactive tables.';\n",
              "        element.innerHTML = '';\n",
              "        dataTable['output_type'] = 'display_data';\n",
              "        await google.colab.output.renderOutput(dataTable, element);\n",
              "        const docLink = document.createElement('div');\n",
              "        docLink.innerHTML = docLinkHtml;\n",
              "        element.appendChild(docLink);\n",
              "      }\n",
              "    </script>\n",
              "  </div>\n",
              "\n",
              "\n",
              "<div id=\"df-9654dffb-40f0-4caf-b7f5-974c1f6df3b4\">\n",
              "  <button class=\"colab-df-quickchart\" onclick=\"quickchart('df-9654dffb-40f0-4caf-b7f5-974c1f6df3b4')\"\n",
              "            title=\"Suggest charts\"\n",
              "            style=\"display:none;\">\n",
              "\n",
              "<svg xmlns=\"http://www.w3.org/2000/svg\" height=\"24px\"viewBox=\"0 0 24 24\"\n",
              "     width=\"24px\">\n",
              "    <g>\n",
              "        <path d=\"M19 3H5c-1.1 0-2 .9-2 2v14c0 1.1.9 2 2 2h14c1.1 0 2-.9 2-2V5c0-1.1-.9-2-2-2zM9 17H7v-7h2v7zm4 0h-2V7h2v10zm4 0h-2v-4h2v4z\"/>\n",
              "    </g>\n",
              "</svg>\n",
              "  </button>\n",
              "\n",
              "<style>\n",
              "  .colab-df-quickchart {\n",
              "      --bg-color: #E8F0FE;\n",
              "      --fill-color: #1967D2;\n",
              "      --hover-bg-color: #E2EBFA;\n",
              "      --hover-fill-color: #174EA6;\n",
              "      --disabled-fill-color: #AAA;\n",
              "      --disabled-bg-color: #DDD;\n",
              "  }\n",
              "\n",
              "  [theme=dark] .colab-df-quickchart {\n",
              "      --bg-color: #3B4455;\n",
              "      --fill-color: #D2E3FC;\n",
              "      --hover-bg-color: #434B5C;\n",
              "      --hover-fill-color: #FFFFFF;\n",
              "      --disabled-bg-color: #3B4455;\n",
              "      --disabled-fill-color: #666;\n",
              "  }\n",
              "\n",
              "  .colab-df-quickchart {\n",
              "    background-color: var(--bg-color);\n",
              "    border: none;\n",
              "    border-radius: 50%;\n",
              "    cursor: pointer;\n",
              "    display: none;\n",
              "    fill: var(--fill-color);\n",
              "    height: 32px;\n",
              "    padding: 0;\n",
              "    width: 32px;\n",
              "  }\n",
              "\n",
              "  .colab-df-quickchart:hover {\n",
              "    background-color: var(--hover-bg-color);\n",
              "    box-shadow: 0 1px 2px rgba(60, 64, 67, 0.3), 0 1px 3px 1px rgba(60, 64, 67, 0.15);\n",
              "    fill: var(--button-hover-fill-color);\n",
              "  }\n",
              "\n",
              "  .colab-df-quickchart-complete:disabled,\n",
              "  .colab-df-quickchart-complete:disabled:hover {\n",
              "    background-color: var(--disabled-bg-color);\n",
              "    fill: var(--disabled-fill-color);\n",
              "    box-shadow: none;\n",
              "  }\n",
              "\n",
              "  .colab-df-spinner {\n",
              "    border: 2px solid var(--fill-color);\n",
              "    border-color: transparent;\n",
              "    border-bottom-color: var(--fill-color);\n",
              "    animation:\n",
              "      spin 1s steps(1) infinite;\n",
              "  }\n",
              "\n",
              "  @keyframes spin {\n",
              "    0% {\n",
              "      border-color: transparent;\n",
              "      border-bottom-color: var(--fill-color);\n",
              "      border-left-color: var(--fill-color);\n",
              "    }\n",
              "    20% {\n",
              "      border-color: transparent;\n",
              "      border-left-color: var(--fill-color);\n",
              "      border-top-color: var(--fill-color);\n",
              "    }\n",
              "    30% {\n",
              "      border-color: transparent;\n",
              "      border-left-color: var(--fill-color);\n",
              "      border-top-color: var(--fill-color);\n",
              "      border-right-color: var(--fill-color);\n",
              "    }\n",
              "    40% {\n",
              "      border-color: transparent;\n",
              "      border-right-color: var(--fill-color);\n",
              "      border-top-color: var(--fill-color);\n",
              "    }\n",
              "    60% {\n",
              "      border-color: transparent;\n",
              "      border-right-color: var(--fill-color);\n",
              "    }\n",
              "    80% {\n",
              "      border-color: transparent;\n",
              "      border-right-color: var(--fill-color);\n",
              "      border-bottom-color: var(--fill-color);\n",
              "    }\n",
              "    90% {\n",
              "      border-color: transparent;\n",
              "      border-bottom-color: var(--fill-color);\n",
              "    }\n",
              "  }\n",
              "</style>\n",
              "\n",
              "  <script>\n",
              "    async function quickchart(key) {\n",
              "      const quickchartButtonEl =\n",
              "        document.querySelector('#' + key + ' button');\n",
              "      quickchartButtonEl.disabled = true;  // To prevent multiple clicks.\n",
              "      quickchartButtonEl.classList.add('colab-df-spinner');\n",
              "      try {\n",
              "        const charts = await google.colab.kernel.invokeFunction(\n",
              "            'suggestCharts', [key], {});\n",
              "      } catch (error) {\n",
              "        console.error('Error during call to suggestCharts:', error);\n",
              "      }\n",
              "      quickchartButtonEl.classList.remove('colab-df-spinner');\n",
              "      quickchartButtonEl.classList.add('colab-df-quickchart-complete');\n",
              "    }\n",
              "    (() => {\n",
              "      let quickchartButtonEl =\n",
              "        document.querySelector('#df-9654dffb-40f0-4caf-b7f5-974c1f6df3b4 button');\n",
              "      quickchartButtonEl.style.display =\n",
              "        google.colab.kernel.accessAllowed ? 'block' : 'none';\n",
              "    })();\n",
              "  </script>\n",
              "</div>\n",
              "    </div>\n",
              "  </div>\n"
            ]
          },
          "metadata": {},
          "execution_count": 4
        }
      ]
    },
    {
      "cell_type": "code",
      "source": [
        "train_datetime = data['datetime']\n",
        "print(train_datetime)"
      ],
      "metadata": {
        "id": "iAHdc1T8Pwi8",
        "colab": {
          "base_uri": "https://localhost:8080/"
        },
        "outputId": "5c39f00f-c92a-4827-d59e-f448eefecbd1"
      },
      "execution_count": null,
      "outputs": [
        {
          "output_type": "stream",
          "name": "stdout",
          "text": [
            "0       1/1/2014\n",
            "1       2/1/2014\n",
            "2       3/1/2014\n",
            "3       4/1/2014\n",
            "4       5/1/2014\n",
            "         ...    \n",
            "103     8/1/2022\n",
            "104     9/1/2022\n",
            "105    10/1/2022\n",
            "106    11/1/2022\n",
            "107    12/1/2022\n",
            "Name: datetime, Length: 108, dtype: object\n"
          ]
        }
      ]
    },
    {
      "cell_type": "code",
      "source": [
        "input_col = list(data)[1:3]\n",
        "print(input_col)"
      ],
      "metadata": {
        "id": "vPR1fwbAQMfN",
        "colab": {
          "base_uri": "https://localhost:8080/"
        },
        "outputId": "d3204783-a6d2-4312-d156-43b8312a0ca4"
      },
      "execution_count": null,
      "outputs": [
        {
          "output_type": "stream",
          "name": "stdout",
          "text": [
            "['total_visitor', 'total_accomodation']\n"
          ]
        }
      ]
    },
    {
      "cell_type": "code",
      "source": [
        "data_for_training = data[input_col]"
      ],
      "metadata": {
        "id": "JSFuQTNkQSl9"
      },
      "execution_count": null,
      "outputs": []
    },
    {
      "cell_type": "code",
      "source": [
        "data_for_training.isna().sum()"
      ],
      "metadata": {
        "colab": {
          "base_uri": "https://localhost:8080/"
        },
        "id": "JrBmGy6gKHPP",
        "outputId": "117250ad-4249-4bd8-a51f-7a8d31443e97"
      },
      "execution_count": null,
      "outputs": [
        {
          "output_type": "execute_result",
          "data": {
            "text/plain": [
              "total_visitor         0\n",
              "total_accomodation    0\n",
              "dtype: int64"
            ]
          },
          "metadata": {},
          "execution_count": 8
        }
      ]
    },
    {
      "cell_type": "code",
      "source": [
        "# Normalize the data\n",
        "scaler = MinMaxScaler()\n",
        "scaled_data = scaler.fit_transform(data_for_training)"
      ],
      "metadata": {
        "id": "zlKSRMW6NPcC"
      },
      "execution_count": null,
      "outputs": []
    },
    {
      "cell_type": "code",
      "source": [
        "# Assuming 'original' contains the original data with 'Datetime' and 'total_visitor' columns\n",
        "original = data[['datetime', 'total_visitor']]\n",
        "original['datetime'] = pd.to_datetime(original['datetime'])\n",
        "original = original.loc[original['datetime'] >= '2013-01-01']"
      ],
      "metadata": {
        "colab": {
          "base_uri": "https://localhost:8080/"
        },
        "id": "iGfJD1YzvYGD",
        "outputId": "c0396049-4794-4a8f-f2f1-3893283eaf1e"
      },
      "execution_count": null,
      "outputs": [
        {
          "output_type": "stream",
          "name": "stderr",
          "text": [
            "<ipython-input-10-6b11e8758d41>:3: SettingWithCopyWarning: \n",
            "A value is trying to be set on a copy of a slice from a DataFrame.\n",
            "Try using .loc[row_indexer,col_indexer] = value instead\n",
            "\n",
            "See the caveats in the documentation: https://pandas.pydata.org/pandas-docs/stable/user_guide/indexing.html#returning-a-view-versus-a-copy\n",
            "  original['datetime'] = pd.to_datetime(original['datetime'])\n"
          ]
        }
      ]
    },
    {
      "cell_type": "markdown",
      "source": [
        "# Scenario 1 - 80% Train - 20% Test"
      ],
      "metadata": {
        "id": "qmC7JeCDLVHD"
      }
    },
    {
      "cell_type": "code",
      "source": [
        "# Define sequence length and features\n",
        "sequence_length = 12  # Number of time steps in each sequence\n",
        "num_features = len(data_for_training.columns)\n",
        "\n",
        "# Create sequences and corresponding labels\n",
        "sequences = []\n",
        "labels = []\n",
        "for i in range(len(scaled_data) - sequence_length):\n",
        "    seq = scaled_data[i:i+sequence_length]\n",
        "    label = scaled_data[i+sequence_length][1]  # '_tempm' column index\n",
        "    sequences.append(seq)\n",
        "    labels.append(label)\n",
        "\n",
        "# Convert to numpy arrays\n",
        "sequences = np.array(sequences)\n",
        "labels = np.array(labels)\n",
        "\n",
        "# Split into train and test sets\n",
        "train_size = int(0.8 * len(sequences))\n",
        "train_x, test_x = sequences[:train_size], sequences[train_size:]\n",
        "train_y, test_y = labels[:train_size], labels[train_size:]\n",
        "\n",
        "print(\"Train X shape:\", train_x.shape)\n",
        "print(\"Train Y shape:\", train_y.shape)\n",
        "print(\"Test X shape:\", test_x.shape)\n",
        "print(\"Test Y shape:\", test_y.shape)"
      ],
      "metadata": {
        "colab": {
          "base_uri": "https://localhost:8080/"
        },
        "id": "z_nbsFYmNc6j",
        "outputId": "0847d443-7e07-454b-8a54-a30a97c9614a"
      },
      "execution_count": null,
      "outputs": [
        {
          "output_type": "stream",
          "name": "stdout",
          "text": [
            "Train X shape: (76, 12, 2)\n",
            "Train Y shape: (76,)\n",
            "Test X shape: (20, 12, 2)\n",
            "Test Y shape: (20,)\n"
          ]
        }
      ]
    },
    {
      "cell_type": "code",
      "source": [
        "# Create the GRU model\n",
        "model = Sequential()\n",
        "\n",
        "# Add GRU layers with dropout\n",
        "model.add(GRU(units=256, input_shape=(train_x.shape[1], train_x.shape[2]), return_sequences=True))\n",
        "model.add(Dropout(0.2))\n",
        "\n",
        "model.add(GRU(units=128, return_sequences=True))\n",
        "model.add(Dropout(0.2))\n",
        "\n",
        "model.add(GRU(units=64, return_sequences=False))\n",
        "\n",
        "# Add a dense output layer\n",
        "model.add(Dense(units=1))\n",
        "\n",
        "# Compile the model\n",
        "model.compile(optimizer='adam', loss='mean_squared_error')"
      ],
      "metadata": {
        "id": "inJR79d-OohZ"
      },
      "execution_count": null,
      "outputs": []
    },
    {
      "cell_type": "code",
      "source": [
        "model.summary()"
      ],
      "metadata": {
        "colab": {
          "base_uri": "https://localhost:8080/"
        },
        "id": "tSL1pkp3OpEl",
        "outputId": "4f2dad00-081b-45bd-bf7b-5dc9c436132d"
      },
      "execution_count": null,
      "outputs": [
        {
          "output_type": "stream",
          "name": "stdout",
          "text": [
            "Model: \"sequential\"\n",
            "_________________________________________________________________\n",
            " Layer (type)                Output Shape              Param #   \n",
            "=================================================================\n",
            " gru (GRU)                   (None, 12, 256)           199680    \n",
            "                                                                 \n",
            " dropout (Dropout)           (None, 12, 256)           0         \n",
            "                                                                 \n",
            " gru_1 (GRU)                 (None, 12, 128)           148224    \n",
            "                                                                 \n",
            " dropout_1 (Dropout)         (None, 12, 128)           0         \n",
            "                                                                 \n",
            " gru_2 (GRU)                 (None, 64)                37248     \n",
            "                                                                 \n",
            " dense (Dense)               (None, 1)                 65        \n",
            "                                                                 \n",
            "=================================================================\n",
            "Total params: 385217 (1.47 MB)\n",
            "Trainable params: 385217 (1.47 MB)\n",
            "Non-trainable params: 0 (0.00 Byte)\n",
            "_________________________________________________________________\n"
          ]
        }
      ]
    },
    {
      "cell_type": "code",
      "source": [
        "# Define callbacks\n",
        "early_stopping = EarlyStopping(monitor='val_loss', patience=15, restore_best_weights=True)\n",
        "\n",
        "# Train the model\n",
        "history = model.fit(\n",
        "    train_x, train_y,\n",
        "    epochs=50,\n",
        "    batch_size=12,\n",
        "    validation_split=0.2,  # Use part of the training data as validation\n",
        "    callbacks=[early_stopping]\n",
        ")"
      ],
      "metadata": {
        "colab": {
          "base_uri": "https://localhost:8080/"
        },
        "id": "NwvaD_KFOvpV",
        "outputId": "8cb137a5-b6d8-495b-976f-ec45f639d8c0"
      },
      "execution_count": null,
      "outputs": [
        {
          "output_type": "stream",
          "name": "stdout",
          "text": [
            "Epoch 1/50\n",
            "5/5 [==============================] - 7s 421ms/step - loss: 0.0702 - val_loss: 0.1318\n",
            "Epoch 2/50\n",
            "5/5 [==============================] - 0s 97ms/step - loss: 0.0210 - val_loss: 0.1708\n",
            "Epoch 3/50\n",
            "5/5 [==============================] - 0s 99ms/step - loss: 0.0082 - val_loss: 0.0567\n",
            "Epoch 4/50\n",
            "5/5 [==============================] - 0s 91ms/step - loss: 0.0081 - val_loss: 0.0610\n",
            "Epoch 5/50\n",
            "5/5 [==============================] - 0s 86ms/step - loss: 0.0030 - val_loss: 0.0643\n",
            "Epoch 6/50\n",
            "5/5 [==============================] - 0s 98ms/step - loss: 0.0032 - val_loss: 0.0170\n",
            "Epoch 7/50\n",
            "5/5 [==============================] - 0s 103ms/step - loss: 0.0018 - val_loss: 0.0064\n",
            "Epoch 8/50\n",
            "5/5 [==============================] - 0s 91ms/step - loss: 9.0928e-04 - val_loss: 0.0055\n",
            "Epoch 9/50\n",
            "5/5 [==============================] - 0s 91ms/step - loss: 0.0012 - val_loss: 0.0013\n",
            "Epoch 10/50\n",
            "5/5 [==============================] - 0s 52ms/step - loss: 0.0012 - val_loss: 0.0065\n",
            "Epoch 11/50\n",
            "5/5 [==============================] - 0s 49ms/step - loss: 4.5580e-04 - val_loss: 0.0074\n",
            "Epoch 12/50\n",
            "5/5 [==============================] - 0s 50ms/step - loss: 4.3709e-04 - val_loss: 0.0092\n",
            "Epoch 13/50\n",
            "5/5 [==============================] - 0s 53ms/step - loss: 4.7987e-04 - val_loss: 0.0069\n",
            "Epoch 14/50\n",
            "5/5 [==============================] - 0s 49ms/step - loss: 5.1522e-04 - val_loss: 0.0063\n",
            "Epoch 15/50\n",
            "5/5 [==============================] - 0s 52ms/step - loss: 5.9642e-04 - val_loss: 0.0034\n",
            "Epoch 16/50\n",
            "5/5 [==============================] - 0s 51ms/step - loss: 3.7595e-04 - val_loss: 0.0029\n",
            "Epoch 17/50\n",
            "5/5 [==============================] - 0s 48ms/step - loss: 3.3983e-04 - val_loss: 0.0053\n",
            "Epoch 18/50\n",
            "5/5 [==============================] - 0s 51ms/step - loss: 4.1302e-04 - val_loss: 0.0025\n",
            "Epoch 19/50\n",
            "5/5 [==============================] - 0s 52ms/step - loss: 4.5688e-04 - val_loss: 0.0060\n",
            "Epoch 20/50\n",
            "5/5 [==============================] - 0s 46ms/step - loss: 5.2239e-04 - val_loss: 0.0024\n",
            "Epoch 21/50\n",
            "5/5 [==============================] - 0s 47ms/step - loss: 4.0541e-04 - val_loss: 0.0047\n",
            "Epoch 22/50\n",
            "5/5 [==============================] - 0s 48ms/step - loss: 6.6470e-04 - val_loss: 0.0019\n",
            "Epoch 23/50\n",
            "5/5 [==============================] - 0s 46ms/step - loss: 3.9371e-04 - val_loss: 0.0021\n",
            "Epoch 24/50\n",
            "5/5 [==============================] - 0s 49ms/step - loss: 2.3183e-04 - val_loss: 9.3523e-04\n",
            "Epoch 25/50\n",
            "5/5 [==============================] - 0s 47ms/step - loss: 3.2373e-04 - val_loss: 0.0016\n",
            "Epoch 26/50\n",
            "5/5 [==============================] - 0s 49ms/step - loss: 3.6507e-04 - val_loss: 6.5235e-04\n",
            "Epoch 27/50\n",
            "5/5 [==============================] - 0s 46ms/step - loss: 4.2409e-04 - val_loss: 9.7309e-04\n",
            "Epoch 28/50\n",
            "5/5 [==============================] - 0s 50ms/step - loss: 2.9179e-04 - val_loss: 8.1634e-04\n",
            "Epoch 29/50\n",
            "5/5 [==============================] - 0s 50ms/step - loss: 3.0254e-04 - val_loss: 0.0012\n",
            "Epoch 30/50\n",
            "5/5 [==============================] - 0s 50ms/step - loss: 4.1334e-04 - val_loss: 5.1639e-04\n",
            "Epoch 31/50\n",
            "5/5 [==============================] - 0s 64ms/step - loss: 5.5402e-04 - val_loss: 0.0016\n",
            "Epoch 32/50\n",
            "5/5 [==============================] - 0s 52ms/step - loss: 3.7651e-04 - val_loss: 0.0012\n",
            "Epoch 33/50\n",
            "5/5 [==============================] - 0s 46ms/step - loss: 4.0409e-04 - val_loss: 2.4020e-04\n",
            "Epoch 34/50\n",
            "5/5 [==============================] - 0s 48ms/step - loss: 4.1532e-04 - val_loss: 4.7363e-04\n",
            "Epoch 35/50\n",
            "5/5 [==============================] - 0s 44ms/step - loss: 4.6397e-04 - val_loss: 6.5244e-04\n",
            "Epoch 36/50\n",
            "5/5 [==============================] - 0s 47ms/step - loss: 4.3734e-04 - val_loss: 0.0020\n",
            "Epoch 37/50\n",
            "5/5 [==============================] - 0s 54ms/step - loss: 6.0081e-04 - val_loss: 3.4725e-04\n",
            "Epoch 38/50\n",
            "5/5 [==============================] - 0s 52ms/step - loss: 4.4012e-04 - val_loss: 0.0017\n",
            "Epoch 39/50\n",
            "5/5 [==============================] - 0s 51ms/step - loss: 3.8685e-04 - val_loss: 0.0011\n",
            "Epoch 40/50\n",
            "5/5 [==============================] - 0s 56ms/step - loss: 5.8536e-04 - val_loss: 1.8923e-04\n",
            "Epoch 41/50\n",
            "5/5 [==============================] - 0s 48ms/step - loss: 5.0479e-04 - val_loss: 9.2472e-04\n",
            "Epoch 42/50\n",
            "5/5 [==============================] - 0s 49ms/step - loss: 4.0217e-04 - val_loss: 1.5050e-04\n",
            "Epoch 43/50\n",
            "5/5 [==============================] - 0s 48ms/step - loss: 3.2639e-04 - val_loss: 6.9349e-04\n",
            "Epoch 44/50\n",
            "5/5 [==============================] - 0s 49ms/step - loss: 2.0576e-04 - val_loss: 2.7798e-04\n",
            "Epoch 45/50\n",
            "5/5 [==============================] - 0s 58ms/step - loss: 2.0015e-04 - val_loss: 2.7948e-04\n",
            "Epoch 46/50\n",
            "5/5 [==============================] - 0s 52ms/step - loss: 2.7547e-04 - val_loss: 2.6795e-04\n",
            "Epoch 47/50\n",
            "5/5 [==============================] - 0s 51ms/step - loss: 3.6401e-04 - val_loss: 2.1800e-04\n",
            "Epoch 48/50\n",
            "5/5 [==============================] - 0s 50ms/step - loss: 3.1045e-04 - val_loss: 4.3834e-04\n",
            "Epoch 49/50\n",
            "5/5 [==============================] - 0s 50ms/step - loss: 2.5161e-04 - val_loss: 1.9240e-04\n",
            "Epoch 50/50\n",
            "5/5 [==============================] - 0s 48ms/step - loss: 2.0141e-04 - val_loss: 1.8740e-04\n"
          ]
        }
      ]
    },
    {
      "cell_type": "code",
      "source": [
        "# Plot training & validation loss values\n",
        "plt.plot(history.history['loss'])\n",
        "plt.plot(history.history['val_loss'])\n",
        "plt.title('Model Loss')\n",
        "plt.xlabel('Epoch')\n",
        "plt.ylabel('Loss')\n",
        "plt.legend(['Train', 'Validation'], loc='upper right')\n",
        "plt.show()"
      ],
      "metadata": {
        "colab": {
          "base_uri": "https://localhost:8080/"
        },
        "id": "ch6eRCU3O3Nt",
        "outputId": "877c9e8b-cf01-45c8-849a-0d089eabef72"
      },
      "execution_count": null,
      "outputs": [
        {
          "output_type": "display_data",
          "data": {
            "text/plain": [
              "<Figure size 640x480 with 1 Axes>"
            ],
            "image/png": "[encoded data removed]"
          },
          "metadata": {}
        }
      ]
    },
    {
      "cell_type": "code",
      "source": [
        "# Predict for 12 month afterwards\n",
        "n_past = 1\n",
        "n_month_for_prediction = 12\n",
        "predict_period_month = pd.date_range(list(train_datetime)[-n_past], periods=n_month_for_prediction, freq='M').tolist()\n",
        "print(predict_period_month)"
      ],
      "metadata": {
        "id": "8ipLwptKO49E",
        "colab": {
          "base_uri": "https://localhost:8080/"
        },
        "outputId": "a0921644-fa51-4641-bceb-a096a5b6e6c9"
      },
      "execution_count": null,
      "outputs": [
        {
          "output_type": "stream",
          "name": "stdout",
          "text": [
            "[Timestamp('2022-12-31 00:00:00', freq='M'), Timestamp('2023-01-31 00:00:00', freq='M'), Timestamp('2023-02-28 00:00:00', freq='M'), Timestamp('2023-03-31 00:00:00', freq='M'), Timestamp('2023-04-30 00:00:00', freq='M'), Timestamp('2023-05-31 00:00:00', freq='M'), Timestamp('2023-06-30 00:00:00', freq='M'), Timestamp('2023-07-31 00:00:00', freq='M'), Timestamp('2023-08-31 00:00:00', freq='M'), Timestamp('2023-09-30 00:00:00', freq='M'), Timestamp('2023-10-31 00:00:00', freq='M'), Timestamp('2023-11-30 00:00:00', freq='M')]\n"
          ]
        }
      ]
    },
    {
      "cell_type": "code",
      "source": [
        "# Print the error metrics\n",
        "prediction = model.predict(train_x[-n_month_for_prediction:])\n",
        "mse = mean_squared_error(train_y[-n_month_for_prediction:], prediction)\n",
        "fmape = np.mean(np.abs((mse) / prediction)) * 100\n",
        "mape = f\"{(fmape*100):.2f}%\"\n",
        "mae = np.mean(np.abs((mse) / prediction))\n",
        "\n",
        "print(\"MSE:\", mse)\n",
        "print(\"MAPE:\", mape)\n",
        "print(\"MAE:\", mae)"
      ],
      "metadata": {
        "id": "8v2QZIudPTA6",
        "colab": {
          "base_uri": "https://localhost:8080/"
        },
        "outputId": "0de94a0f-4578-4ea5-a21e-0aca4b3b772a"
      },
      "execution_count": null,
      "outputs": [
        {
          "output_type": "stream",
          "name": "stdout",
          "text": [
            "1/1 [==============================] - 2s 2s/step\n",
            "MSE: 0.00022627554323967987\n",
            "MAPE: 3.18%\n",
            "MAE: 0.00031814037\n"
          ]
        }
      ]
    },
    {
      "cell_type": "code",
      "source": [
        "prediction_copies = np.repeat(prediction, data_for_training.shape[1], axis=-1)\n",
        "y_pred_future = scaler.inverse_transform(prediction_copies)[:,0]"
      ],
      "metadata": {
        "id": "GVshhMLGPVd6"
      },
      "execution_count": null,
      "outputs": []
    },
    {
      "cell_type": "code",
      "source": [
        "forecast_dates_1 = []\n",
        "\n",
        "for time_i in predict_period_month:\n",
        "    forecast_dates_1.append(time_i.date())\n",
        "\n",
        "df_forecast = pd.DataFrame({'Date': forecast_dates_1, 'Total Visitor': y_pred_future})\n",
        "df_forecast['Date'] = pd.to_datetime(df_forecast['Date'])\n",
        "\n",
        "sns.lineplot(data=original, x='datetime', y='total_visitor', label='Original')\n",
        "sns.lineplot(data=df_forecast, x='Date', y='Total Visitor', label='Forecast')\n",
        "\n",
        "plt.xlabel('Date')\n",
        "plt.ylabel('total_visitor')\n",
        "plt.title('Forecasted Total Visitor')\n",
        "plt.legend()\n",
        "plt.show()\n",
        "\n",
        "# Generate the forecast dates from January 2023 to December 2023\n",
        "forecast_dates_1 = pd.date_range(start='2023-01-01', end='2023-12-01', freq='MS')\n",
        "\n",
        "# Create a list of forecast dates and prediction values\n",
        "data = list(zip(forecast_dates_1, y_pred_future))\n",
        "\n",
        "# Create a list of headers for the table\n",
        "headers = ['Date', 'Prediction']\n",
        "table = tabulate(data, headers=headers, tablefmt='fancy_grid')\n",
        "# Print the table\n",
        "print(table)"
      ],
      "metadata": {
        "colab": {
          "base_uri": "https://localhost:8080/"
        },
        "id": "Ym_-YgGbSZY9",
        "outputId": "48f44125-4d40-4e0b-bb10-cdb607dd056a"
      },
      "execution_count": null,
      "outputs": [
        {
          "output_type": "display_data",
          "data": {
            "text/plain": [
              "<Figure size 640x480 with 1 Axes>"
            ],
            "image/png": "[encoded data removed]"
          },
          "metadata": {}
        },
        {
          "output_type": "stream",
          "name": "stdout",
          "text": [
            "╒═════════════════════╤══════════════╕\n",
            "│ Date                │   Prediction │\n",
            "╞═════════════════════╪══════════════╡\n",
            "│ 2023-01-01 00:00:00 │       404219 │\n",
            "├─────────────────────┼──────────────┤\n",
            "│ 2023-02-01 00:00:00 │       408682 │\n",
            "├─────────────────────┼──────────────┤\n",
            "│ 2023-03-01 00:00:00 │       415384 │\n",
            "├─────────────────────┼──────────────┤\n",
            "│ 2023-04-01 00:00:00 │       423783 │\n",
            "├─────────────────────┼──────────────┤\n",
            "│ 2023-05-01 00:00:00 │       432933 │\n",
            "├─────────────────────┼──────────────┤\n",
            "│ 2023-06-01 00:00:00 │       442297 │\n",
            "├─────────────────────┼──────────────┤\n",
            "│ 2023-07-01 00:00:00 │       451139 │\n",
            "├─────────────────────┼──────────────┤\n",
            "│ 2023-08-01 00:00:00 │       459354 │\n",
            "├─────────────────────┼──────────────┤\n",
            "│ 2023-09-01 00:00:00 │       467259 │\n",
            "├─────────────────────┼──────────────┤\n",
            "│ 2023-10-01 00:00:00 │       474784 │\n",
            "├─────────────────────┼──────────────┤\n",
            "│ 2023-11-01 00:00:00 │       481789 │\n",
            "├─────────────────────┼──────────────┤\n",
            "│ 2023-12-01 00:00:00 │       488243 │\n",
            "╘═════════════════════╧══════════════╛\n"
          ]
        }
      ]
    },
    {
      "cell_type": "markdown",
      "source": [
        "# Scenario 2 - 70% Train - 30 % Test"
      ],
      "metadata": {
        "id": "vo8s4MmOLdVD"
      }
    },
    {
      "cell_type": "code",
      "source": [
        "# Define sequence length and features\n",
        "sequence_length2 = 12  # Number of time steps in each sequence\n",
        "num_features2 = len(data_for_training.columns)\n",
        "\n",
        "# Create sequences and corresponding labels\n",
        "sequences2 = []\n",
        "labels2 = []\n",
        "for i in range(len(scaled_data) - sequence_length2):\n",
        "    seq = scaled_data[i:i+sequence_length2]\n",
        "    label = scaled_data[i+sequence_length2][1]  # '_tempm' column index\n",
        "    sequences2.append(seq)\n",
        "    labels2.append(label)\n",
        "\n",
        "# Convert to numpy arrays\n",
        "sequences2 = np.array(sequences2)\n",
        "labels2 = np.array(labels2)\n",
        "\n",
        "# Split into train and test sets\n",
        "train_size2 = int(0.7 * len(sequences2))\n",
        "train_x2, test_x2 = sequences2[:train_size2], sequences2[train_size2:]\n",
        "train_y2, test_y2 = labels2[:train_size2], labels2[train_size2:]\n",
        "\n",
        "print(\"Train X2 shape:\", train_x2.shape)\n",
        "print(\"Train Y2 shape:\", train_y2.shape)\n",
        "print(\"Test X2 shape:\", test_x2.shape)\n",
        "print(\"Test Y2 shape:\", test_y2.shape)"
      ],
      "metadata": {
        "colab": {
          "base_uri": "https://localhost:8080/"
        },
        "id": "3fxA3X45X7G8",
        "outputId": "76c3d6c4-0bb9-4611-836d-056d9378cb68"
      },
      "execution_count": null,
      "outputs": [
        {
          "output_type": "stream",
          "name": "stdout",
          "text": [
            "Train X2 shape: (67, 12, 2)\n",
            "Train Y2 shape: (67,)\n",
            "Test X2 shape: (29, 12, 2)\n",
            "Test Y2 shape: (29,)\n"
          ]
        }
      ]
    },
    {
      "cell_type": "code",
      "source": [
        "# Create the GRU model\n",
        "model2 = Sequential()\n",
        "\n",
        "# Add GRU layers with dropout\n",
        "model2.add(GRU(units=256, input_shape=(train_x2.shape[1], train_x2.shape[2]), return_sequences=True))\n",
        "model2.add(Dropout(0.2))\n",
        "\n",
        "model2.add(GRU(units=128, return_sequences=True))\n",
        "model2.add(Dropout(0.2))\n",
        "\n",
        "model2.add(GRU(units=64, return_sequences=False))\n",
        "\n",
        "# Add a dense output layer\n",
        "model2.add(Dense(units=1))\n",
        "\n",
        "# Compile the model\n",
        "model2.compile(optimizer='adam', loss='mean_squared_error')"
      ],
      "metadata": {
        "id": "QWg6nGBUYAiG"
      },
      "execution_count": null,
      "outputs": []
    },
    {
      "cell_type": "code",
      "source": [
        "model2.summary()"
      ],
      "metadata": {
        "colab": {
          "base_uri": "https://localhost:8080/"
        },
        "id": "-FNrsFMaYGuL",
        "outputId": "5ff19a22-0c16-4611-89c0-0da3db3162fc"
      },
      "execution_count": null,
      "outputs": [
        {
          "output_type": "stream",
          "name": "stdout",
          "text": [
            "Model: \"sequential_1\"\n",
            "_________________________________________________________________\n",
            " Layer (type)                Output Shape              Param #   \n",
            "=================================================================\n",
            " gru_3 (GRU)                 (None, 12, 256)           199680    \n",
            "                                                                 \n",
            " dropout_2 (Dropout)         (None, 12, 256)           0         \n",
            "                                                                 \n",
            " gru_4 (GRU)                 (None, 12, 128)           148224    \n",
            "                                                                 \n",
            " dropout_3 (Dropout)         (None, 12, 128)           0         \n",
            "                                                                 \n",
            " gru_5 (GRU)                 (None, 64)                37248     \n",
            "                                                                 \n",
            " dense_1 (Dense)             (None, 1)                 65        \n",
            "                                                                 \n",
            "=================================================================\n",
            "Total params: 385217 (1.47 MB)\n",
            "Trainable params: 385217 (1.47 MB)\n",
            "Non-trainable params: 0 (0.00 Byte)\n",
            "_________________________________________________________________\n"
          ]
        }
      ]
    },
    {
      "cell_type": "code",
      "source": [
        "# Define callbacks\n",
        "early_stopping = EarlyStopping(monitor='val_loss', patience=15, restore_best_weights=True)\n",
        "\n",
        "# Train the model\n",
        "history2 = model2.fit(\n",
        "    train_x2, train_y2,\n",
        "    epochs=50,\n",
        "    batch_size=12,\n",
        "    validation_split=0.3,  # Use part of the training data as validation\n",
        "    callbacks=[early_stopping]\n",
        ")"
      ],
      "metadata": {
        "colab": {
          "base_uri": "https://localhost:8080/"
        },
        "id": "pb0aacEuYHEN",
        "outputId": "7144c6d6-9be8-40ce-da2f-9eb8cc398bce"
      },
      "execution_count": null,
      "outputs": [
        {
          "output_type": "stream",
          "name": "stdout",
          "text": [
            "Epoch 1/50\n",
            "4/4 [==============================] - 11s 1s/step - loss: 0.0412 - val_loss: 0.0311\n",
            "Epoch 2/50\n",
            "4/4 [==============================] - 0s 135ms/step - loss: 0.0093 - val_loss: 0.0890\n",
            "Epoch 3/50\n",
            "4/4 [==============================] - 0s 91ms/step - loss: 0.0073 - val_loss: 0.0135\n",
            "Epoch 4/50\n",
            "4/4 [==============================] - 1s 144ms/step - loss: 0.0057 - val_loss: 0.0201\n",
            "Epoch 5/50\n",
            "4/4 [==============================] - 1s 144ms/step - loss: 0.0025 - val_loss: 0.0378\n",
            "Epoch 6/50\n",
            "4/4 [==============================] - 0s 112ms/step - loss: 0.0033 - val_loss: 0.0088\n",
            "Epoch 7/50\n",
            "4/4 [==============================] - 1s 143ms/step - loss: 0.0015 - val_loss: 0.0051\n",
            "Epoch 8/50\n",
            "4/4 [==============================] - 1s 155ms/step - loss: 6.1408e-04 - val_loss: 0.0055\n",
            "Epoch 9/50\n",
            "4/4 [==============================] - 0s 132ms/step - loss: 6.7042e-04 - val_loss: 0.0013\n",
            "Epoch 10/50\n",
            "4/4 [==============================] - 1s 145ms/step - loss: 4.0988e-04 - val_loss: 0.0012\n",
            "Epoch 11/50\n",
            "4/4 [==============================] - 0s 124ms/step - loss: 6.8124e-04 - val_loss: 0.0011\n",
            "Epoch 12/50\n",
            "4/4 [==============================] - 0s 130ms/step - loss: 5.8022e-04 - val_loss: 0.0012\n",
            "Epoch 13/50\n",
            "4/4 [==============================] - 0s 129ms/step - loss: 4.5677e-04 - val_loss: 0.0018\n",
            "Epoch 14/50\n",
            "4/4 [==============================] - 0s 110ms/step - loss: 6.4400e-04 - val_loss: 0.0011\n",
            "Epoch 15/50\n",
            "4/4 [==============================] - 0s 115ms/step - loss: 3.5898e-04 - val_loss: 0.0018\n",
            "Epoch 16/50\n",
            "4/4 [==============================] - 0s 138ms/step - loss: 3.4717e-04 - val_loss: 0.0014\n",
            "Epoch 17/50\n",
            "4/4 [==============================] - 1s 143ms/step - loss: 4.1905e-04 - val_loss: 0.0011\n",
            "Epoch 18/50\n",
            "4/4 [==============================] - 0s 119ms/step - loss: 4.0454e-04 - val_loss: 8.5509e-04\n",
            "Epoch 19/50\n",
            "4/4 [==============================] - 1s 174ms/step - loss: 4.4501e-04 - val_loss: 6.8616e-04\n",
            "Epoch 20/50\n",
            "4/4 [==============================] - 1s 139ms/step - loss: 3.3834e-04 - val_loss: 0.0011\n",
            "Epoch 21/50\n",
            "4/4 [==============================] - 1s 184ms/step - loss: 3.1438e-04 - val_loss: 5.1932e-04\n",
            "Epoch 22/50\n",
            "4/4 [==============================] - 1s 159ms/step - loss: 2.9062e-04 - val_loss: 4.6858e-04\n",
            "Epoch 23/50\n",
            "4/4 [==============================] - 1s 194ms/step - loss: 2.6704e-04 - val_loss: 6.8645e-04\n",
            "Epoch 24/50\n",
            "4/4 [==============================] - 1s 195ms/step - loss: 2.6611e-04 - val_loss: 4.0062e-04\n",
            "Epoch 25/50\n",
            "4/4 [==============================] - 1s 196ms/step - loss: 2.8920e-04 - val_loss: 3.5829e-04\n",
            "Epoch 26/50\n",
            "4/4 [==============================] - 1s 229ms/step - loss: 3.0417e-04 - val_loss: 4.4281e-04\n",
            "Epoch 27/50\n",
            "4/4 [==============================] - 1s 244ms/step - loss: 2.4970e-04 - val_loss: 2.7234e-04\n",
            "Epoch 28/50\n",
            "4/4 [==============================] - 1s 170ms/step - loss: 3.4684e-04 - val_loss: 0.0011\n",
            "Epoch 29/50\n",
            "4/4 [==============================] - 0s 103ms/step - loss: 2.9757e-04 - val_loss: 3.2683e-04\n",
            "Epoch 30/50\n",
            "4/4 [==============================] - 0s 109ms/step - loss: 2.0993e-04 - val_loss: 0.0012\n",
            "Epoch 31/50\n",
            "4/4 [==============================] - 0s 118ms/step - loss: 3.7808e-04 - val_loss: 2.7481e-04\n",
            "Epoch 32/50\n",
            "4/4 [==============================] - 1s 135ms/step - loss: 3.1458e-04 - val_loss: 1.7999e-04\n",
            "Epoch 33/50\n",
            "4/4 [==============================] - 1s 142ms/step - loss: 1.1550e-04 - val_loss: 4.4807e-04\n",
            "Epoch 34/50\n",
            "4/4 [==============================] - 1s 144ms/step - loss: 4.9238e-04 - val_loss: 3.0231e-04\n",
            "Epoch 35/50\n",
            "4/4 [==============================] - 1s 179ms/step - loss: 1.8963e-04 - val_loss: 1.5258e-04\n",
            "Epoch 36/50\n",
            "4/4 [==============================] - 0s 132ms/step - loss: 2.1632e-04 - val_loss: 2.2095e-04\n",
            "Epoch 37/50\n",
            "4/4 [==============================] - 0s 131ms/step - loss: 2.8501e-04 - val_loss: 4.0459e-04\n",
            "Epoch 38/50\n",
            "4/4 [==============================] - 0s 100ms/step - loss: 2.6243e-04 - val_loss: 1.8923e-04\n",
            "Epoch 39/50\n",
            "4/4 [==============================] - 0s 57ms/step - loss: 3.1278e-04 - val_loss: 4.3281e-04\n",
            "Epoch 40/50\n",
            "4/4 [==============================] - 0s 57ms/step - loss: 3.1891e-04 - val_loss: 2.9201e-04\n",
            "Epoch 41/50\n",
            "4/4 [==============================] - 0s 55ms/step - loss: 4.0939e-04 - val_loss: 4.3193e-04\n",
            "Epoch 42/50\n",
            "4/4 [==============================] - 0s 59ms/step - loss: 2.9626e-04 - val_loss: 1.5194e-04\n",
            "Epoch 43/50\n",
            "4/4 [==============================] - 0s 59ms/step - loss: 3.1342e-04 - val_loss: 2.3263e-04\n",
            "Epoch 44/50\n",
            "4/4 [==============================] - 0s 57ms/step - loss: 2.1955e-04 - val_loss: 2.8453e-04\n",
            "Epoch 45/50\n",
            "4/4 [==============================] - 0s 58ms/step - loss: 2.4889e-04 - val_loss: 5.3688e-04\n",
            "Epoch 46/50\n",
            "4/4 [==============================] - 0s 57ms/step - loss: 2.4210e-04 - val_loss: 5.7767e-04\n",
            "Epoch 47/50\n",
            "4/4 [==============================] - 0s 60ms/step - loss: 2.7198e-04 - val_loss: 9.7682e-05\n",
            "Epoch 48/50\n",
            "4/4 [==============================] - 0s 70ms/step - loss: 2.0879e-04 - val_loss: 9.0116e-04\n",
            "Epoch 49/50\n",
            "4/4 [==============================] - 0s 58ms/step - loss: 2.7672e-04 - val_loss: 8.9356e-05\n",
            "Epoch 50/50\n",
            "4/4 [==============================] - 0s 56ms/step - loss: 3.7560e-04 - val_loss: 1.9272e-04\n"
          ]
        }
      ]
    },
    {
      "cell_type": "code",
      "source": [
        "# Plot training & validation loss values\n",
        "plt.plot(history2.history['loss'])\n",
        "plt.plot(history2.history['val_loss'])\n",
        "plt.title('Model Loss')\n",
        "plt.xlabel('Epoch')\n",
        "plt.ylabel('Loss')\n",
        "plt.legend(['Train', 'Validation'], loc='upper right')\n",
        "plt.show()"
      ],
      "metadata": {
        "colab": {
          "base_uri": "https://localhost:8080/"
        },
        "id": "2bhAOwVoYOak",
        "outputId": "6fd5ac8b-e538-4398-ff49-e5bc3535ee75"
      },
      "execution_count": null,
      "outputs": [
        {
          "output_type": "display_data",
          "data": {
            "text/plain": [
              "<Figure size 640x480 with 1 Axes>"
            ],
            "image/png": "[encoded data removed]"
          },
          "metadata": {}
        }
      ]
    },
    {
      "cell_type": "code",
      "source": [
        "# Predict for 12 month afterwards\n",
        "n_past2 = 1\n",
        "n_month_for_prediction2 = 12\n",
        "predict_period_month2 = pd.date_range(list(train_datetime)[-n_past], periods=n_month_for_prediction2, freq='M').tolist()\n",
        "print(predict_period_month2)"
      ],
      "metadata": {
        "colab": {
          "base_uri": "https://localhost:8080/"
        },
        "id": "Jw2V8tGPYSQJ",
        "outputId": "ba3ffc9b-5ab3-4aed-b30c-ebd286452b6a"
      },
      "execution_count": null,
      "outputs": [
        {
          "output_type": "stream",
          "name": "stdout",
          "text": [
            "[Timestamp('2022-12-31 00:00:00', freq='M'), Timestamp('2023-01-31 00:00:00', freq='M'), Timestamp('2023-02-28 00:00:00', freq='M'), Timestamp('2023-03-31 00:00:00', freq='M'), Timestamp('2023-04-30 00:00:00', freq='M'), Timestamp('2023-05-31 00:00:00', freq='M'), Timestamp('2023-06-30 00:00:00', freq='M'), Timestamp('2023-07-31 00:00:00', freq='M'), Timestamp('2023-08-31 00:00:00', freq='M'), Timestamp('2023-09-30 00:00:00', freq='M'), Timestamp('2023-10-31 00:00:00', freq='M'), Timestamp('2023-11-30 00:00:00', freq='M')]\n"
          ]
        }
      ]
    },
    {
      "cell_type": "code",
      "source": [
        "# Print the error metrics\n",
        "prediction2 = model2.predict(train_x2[-n_month_for_prediction2:])\n",
        "mse2 = mean_squared_error(train_y2[-n_month_for_prediction2:], prediction2)\n",
        "fmape2 = np.mean(np.abs((mse2) / prediction2)) * 100\n",
        "mape2 = f\"{(fmape2*100):.2f}%\"\n",
        "mae2 = np.mean(np.abs((mse2) / prediction2))\n",
        "\n",
        "print(\"MSE:\", mse2)\n",
        "print(\"MAPE:\", mape2)\n",
        "print(\"MAE:\", mae2)"
      ],
      "metadata": {
        "colab": {
          "base_uri": "https://localhost:8080/"
        },
        "id": "VIt6mvV5YVxa",
        "outputId": "c5116eb2-0846-4ee6-ce30-28a09f18e266"
      },
      "execution_count": null,
      "outputs": [
        {
          "output_type": "stream",
          "name": "stdout",
          "text": [
            "1/1 [==============================] - 1s 1s/step\n",
            "MSE: 0.00026560518684805805\n",
            "MAPE: 4.27%\n",
            "MAE: 0.0004270319\n"
          ]
        }
      ]
    },
    {
      "cell_type": "code",
      "source": [
        "prediction_copies2 = np.repeat(prediction2, data_for_training.shape[1], axis=-1)\n",
        "y_pred_future2 = scaler.inverse_transform(prediction_copies2)[:,0]"
      ],
      "metadata": {
        "id": "eNmCrd_cYXji"
      },
      "execution_count": null,
      "outputs": []
    },
    {
      "cell_type": "code",
      "source": [
        "forecast_dates_2 = []\n",
        "\n",
        "for time_i in predict_period_month2:\n",
        "    forecast_dates_2.append(time_i.date())\n",
        "\n",
        "df_forecast_2 = pd.DataFrame({'Date': forecast_dates_2, 'Total Visitor': y_pred_future2})\n",
        "df_forecast_2['Date'] = pd.to_datetime(df_forecast_2['Date'])\n",
        "\n",
        "sns.lineplot(data=original, x='datetime', y='total_visitor', label='Original')\n",
        "sns.lineplot(data=df_forecast_2, x='Date', y='Total Visitor', label='Forecast')\n",
        "\n",
        "plt.xlabel('Year')\n",
        "plt.ylabel('Total Visitor')\n",
        "plt.title('Forecasted Total Visitor')\n",
        "plt.legend()\n",
        "plt.show()\n",
        "\n",
        "# Generate the forecast dates from January 2023 to December 2023\n",
        "forecast_dates_2 = pd.date_range(start='2023-01-01', end='2023-12-01', freq='MS')\n",
        "\n",
        "# Create a list of forecast dates and prediction values\n",
        "data2 = list(zip(forecast_dates_2, y_pred_future2))\n",
        "\n",
        "# Create a list of headers for the table\n",
        "headers = ['Date', 'Prediction']\n",
        "table2 = tabulate(data2, headers=headers, tablefmt='fancy_grid')\n",
        "# Print the table\n",
        "print(table2)"
      ],
      "metadata": {
        "colab": {
          "base_uri": "https://localhost:8080/"
        },
        "id": "jUsFf6Y0YbE9",
        "outputId": "f6d66d6e-6e93-4035-c1d5-b909338558b7"
      },
      "execution_count": null,
      "outputs": [
        {
          "output_type": "display_data",
          "data": {
            "text/plain": [
              "<Figure size 640x480 with 1 Axes>"
            ],
            "image/png": "[encoded data removed]"
          },
          "metadata": {}
        },
        {
          "output_type": "stream",
          "name": "stdout",
          "text": [
            "╒═════════════════════╤══════════════╕\n",
            "│ Date                │   Prediction │\n",
            "╞═════════════════════╪══════════════╡\n",
            "│ 2023-01-01 00:00:00 │       363440 │\n",
            "├─────────────────────┼──────────────┤\n",
            "│ 2023-02-01 00:00:00 │       370616 │\n",
            "├─────────────────────┼──────────────┤\n",
            "│ 2023-03-01 00:00:00 │       376568 │\n",
            "├─────────────────────┼──────────────┤\n",
            "│ 2023-04-01 00:00:00 │       381505 │\n",
            "├─────────────────────┼──────────────┤\n",
            "│ 2023-05-01 00:00:00 │       385220 │\n",
            "├─────────────────────┼──────────────┤\n",
            "│ 2023-06-01 00:00:00 │       389379 │\n",
            "├─────────────────────┼──────────────┤\n",
            "│ 2023-07-01 00:00:00 │       393537 │\n",
            "├─────────────────────┼──────────────┤\n",
            "│ 2023-08-01 00:00:00 │       396395 │\n",
            "├─────────────────────┼──────────────┤\n",
            "│ 2023-09-01 00:00:00 │       397995 │\n",
            "├─────────────────────┼──────────────┤\n",
            "│ 2023-10-01 00:00:00 │       399358 │\n",
            "├─────────────────────┼──────────────┤\n",
            "│ 2023-11-01 00:00:00 │       402664 │\n",
            "├─────────────────────┼──────────────┤\n",
            "│ 2023-12-01 00:00:00 │       408817 │\n",
            "╘═════════════════════╧══════════════╛\n"
          ]
        }
      ]
    },
    {
      "cell_type": "markdown",
      "source": [
        "# Scenario 3 - 60% Train - 40 % Test"
      ],
      "metadata": {
        "id": "-5wuEAHqLjOn"
      }
    },
    {
      "cell_type": "code",
      "source": [
        "# Define sequence length and features\n",
        "sequence_length3 = 12  # Number of time steps in each sequence\n",
        "num_features3 = len(data_for_training.columns)\n",
        "\n",
        "# Create sequences and corresponding labels\n",
        "sequences3 = []\n",
        "labels3 = []\n",
        "for i in range(len(scaled_data) - sequence_length3):\n",
        "    seq = scaled_data[i:i+sequence_length3]\n",
        "    label = scaled_data[i+sequence_length3][1]  # '_tempm' column index\n",
        "    sequences3.append(seq)\n",
        "    labels3.append(label)\n",
        "\n",
        "# Convert to numpy arrays\n",
        "sequences3 = np.array(sequences3)\n",
        "labels3 = np.array(labels3)\n",
        "\n",
        "# Split into train and test sets\n",
        "train_size3 = int(0.6 * len(sequences3))\n",
        "train_x3, test_x3 = sequences3[:train_size3], sequences3[train_size3:]\n",
        "train_y3, test_y3 = labels3[:train_size3], labels3[train_size3:]\n",
        "\n",
        "print(\"Train X3 shape:\", train_x3.shape)\n",
        "print(\"Train Y3 shape:\", train_y3.shape)\n",
        "print(\"Test X3 shape:\", test_x3.shape)\n",
        "print(\"Test Y3 shape:\", test_y3.shape)"
      ],
      "metadata": {
        "colab": {
          "base_uri": "https://localhost:8080/"
        },
        "id": "F84v5Mk-njMo",
        "outputId": "0560f53d-6fd2-4ede-8fd4-a4062fecbd46"
      },
      "execution_count": null,
      "outputs": [
        {
          "output_type": "stream",
          "name": "stdout",
          "text": [
            "Train X3 shape: (57, 12, 2)\n",
            "Train Y3 shape: (57,)\n",
            "Test X3 shape: (39, 12, 2)\n",
            "Test Y3 shape: (39,)\n"
          ]
        }
      ]
    },
    {
      "cell_type": "code",
      "source": [
        "# Create the GRU model\n",
        "model3 = Sequential()\n",
        "\n",
        "# Add GRU layers with dropout\n",
        "model3.add(GRU(units=256, input_shape=(train_x3.shape[1], train_x3.shape[2]), return_sequences=True))\n",
        "model3.add(Dropout(0.2))\n",
        "\n",
        "model3.add(GRU(units=128, return_sequences=True))\n",
        "model3.add(Dropout(0.2))\n",
        "\n",
        "model3.add(GRU(units=64, return_sequences=False))\n",
        "\n",
        "# Add a dense output layer\n",
        "model3.add(Dense(units=1))\n",
        "\n",
        "# Compile the model\n",
        "model3.compile(optimizer='adam', loss='mean_squared_error')"
      ],
      "metadata": {
        "id": "rpWcYGbvn6oU"
      },
      "execution_count": null,
      "outputs": []
    },
    {
      "cell_type": "code",
      "source": [
        "model3.summary()"
      ],
      "metadata": {
        "colab": {
          "base_uri": "https://localhost:8080/"
        },
        "id": "ehHTQdG6oNsg",
        "outputId": "67550dbd-819b-4d06-dece-8c2900df9ae5"
      },
      "execution_count": null,
      "outputs": [
        {
          "output_type": "stream",
          "name": "stdout",
          "text": [
            "Model: \"sequential_2\"\n",
            "_________________________________________________________________\n",
            " Layer (type)                Output Shape              Param #   \n",
            "=================================================================\n",
            " gru_6 (GRU)                 (None, 12, 256)           199680    \n",
            "                                                                 \n",
            " dropout_4 (Dropout)         (None, 12, 256)           0         \n",
            "                                                                 \n",
            " gru_7 (GRU)                 (None, 12, 128)           148224    \n",
            "                                                                 \n",
            " dropout_5 (Dropout)         (None, 12, 128)           0         \n",
            "                                                                 \n",
            " gru_8 (GRU)                 (None, 64)                37248     \n",
            "                                                                 \n",
            " dense_2 (Dense)             (None, 1)                 65        \n",
            "                                                                 \n",
            "=================================================================\n",
            "Total params: 385217 (1.47 MB)\n",
            "Trainable params: 385217 (1.47 MB)\n",
            "Non-trainable params: 0 (0.00 Byte)\n",
            "_________________________________________________________________\n"
          ]
        }
      ]
    },
    {
      "cell_type": "code",
      "source": [
        "# Define callbacks\n",
        "early_stopping = EarlyStopping(monitor='val_loss', patience=15, restore_best_weights=True)\n",
        "\n",
        "# Train the model\n",
        "history3 = model3.fit(\n",
        "    train_x3, train_y3,\n",
        "    epochs=50,\n",
        "    batch_size=12,\n",
        "    validation_split=0.4,  # Use part of the training data as validation\n",
        "    callbacks=[early_stopping]\n",
        ")"
      ],
      "metadata": {
        "colab": {
          "base_uri": "https://localhost:8080/"
        },
        "id": "miJggx1joPAp",
        "outputId": "586ab062-a134-4413-cc9f-dda9fcf6464f"
      },
      "execution_count": null,
      "outputs": [
        {
          "output_type": "stream",
          "name": "stdout",
          "text": [
            "Epoch 1/50\n",
            "3/3 [==============================] - 8s 837ms/step - loss: 0.0196 - val_loss: 0.0193\n",
            "Epoch 2/50\n",
            "3/3 [==============================] - 0s 125ms/step - loss: 0.0043 - val_loss: 0.0632\n",
            "Epoch 3/50\n",
            "3/3 [==============================] - 0s 110ms/step - loss: 0.0043 - val_loss: 0.0153\n",
            "Epoch 4/50\n",
            "3/3 [==============================] - 0s 124ms/step - loss: 0.0036 - val_loss: 0.0100\n",
            "Epoch 5/50\n",
            "3/3 [==============================] - 0s 129ms/step - loss: 0.0021 - val_loss: 0.0320\n",
            "Epoch 6/50\n",
            "3/3 [==============================] - 0s 118ms/step - loss: 0.0033 - val_loss: 0.0296\n",
            "Epoch 7/50\n",
            "3/3 [==============================] - 0s 137ms/step - loss: 0.0022 - val_loss: 0.0056\n",
            "Epoch 8/50\n",
            "3/3 [==============================] - 0s 127ms/step - loss: 0.0021 - val_loss: 0.0068\n",
            "Epoch 9/50\n",
            "3/3 [==============================] - 0s 121ms/step - loss: 0.0012 - val_loss: 0.0169\n",
            "Epoch 10/50\n",
            "3/3 [==============================] - 0s 107ms/step - loss: 0.0012 - val_loss: 0.0083\n",
            "Epoch 11/50\n",
            "3/3 [==============================] - 0s 103ms/step - loss: 7.0460e-04 - val_loss: 0.0017\n",
            "Epoch 12/50\n",
            "3/3 [==============================] - 0s 63ms/step - loss: 7.2628e-04 - val_loss: 0.0036\n",
            "Epoch 13/50\n",
            "3/3 [==============================] - 0s 64ms/step - loss: 6.2766e-04 - val_loss: 0.0036\n",
            "Epoch 14/50\n",
            "3/3 [==============================] - 0s 64ms/step - loss: 3.9169e-04 - val_loss: 3.0255e-04\n",
            "Epoch 15/50\n",
            "3/3 [==============================] - 0s 68ms/step - loss: 4.7571e-04 - val_loss: 7.5692e-04\n",
            "Epoch 16/50\n",
            "3/3 [==============================] - 0s 69ms/step - loss: 4.7743e-04 - val_loss: 9.5296e-04\n",
            "Epoch 17/50\n",
            "3/3 [==============================] - 0s 65ms/step - loss: 3.4110e-04 - val_loss: 2.1714e-04\n",
            "Epoch 18/50\n",
            "3/3 [==============================] - 0s 66ms/step - loss: 4.9674e-04 - val_loss: 0.0013\n",
            "Epoch 19/50\n",
            "3/3 [==============================] - 0s 63ms/step - loss: 3.6479e-04 - val_loss: 6.1618e-04\n",
            "Epoch 20/50\n",
            "3/3 [==============================] - 0s 64ms/step - loss: 3.5003e-04 - val_loss: 0.0013\n",
            "Epoch 21/50\n",
            "3/3 [==============================] - 0s 65ms/step - loss: 3.1525e-04 - val_loss: 0.0019\n",
            "Epoch 22/50\n",
            "3/3 [==============================] - 0s 65ms/step - loss: 2.1489e-04 - val_loss: 9.5608e-04\n",
            "Epoch 23/50\n",
            "3/3 [==============================] - 0s 72ms/step - loss: 2.5739e-04 - val_loss: 8.3636e-04\n",
            "Epoch 24/50\n",
            "3/3 [==============================] - 0s 71ms/step - loss: 3.9047e-04 - val_loss: 0.0019\n",
            "Epoch 25/50\n",
            "3/3 [==============================] - 0s 95ms/step - loss: 2.3876e-04 - val_loss: 0.0011\n",
            "Epoch 26/50\n",
            "3/3 [==============================] - 0s 91ms/step - loss: 2.9838e-04 - val_loss: 0.0013\n",
            "Epoch 27/50\n",
            "3/3 [==============================] - 0s 66ms/step - loss: 2.2108e-04 - val_loss: 7.8022e-04\n",
            "Epoch 28/50\n",
            "3/3 [==============================] - 0s 62ms/step - loss: 1.6283e-04 - val_loss: 5.2643e-04\n",
            "Epoch 29/50\n",
            "3/3 [==============================] - 0s 68ms/step - loss: 3.8577e-04 - val_loss: 0.0015\n",
            "Epoch 30/50\n",
            "3/3 [==============================] - 0s 66ms/step - loss: 3.6897e-04 - val_loss: 2.5912e-04\n",
            "Epoch 31/50\n",
            "3/3 [==============================] - 0s 63ms/step - loss: 5.0883e-04 - val_loss: 0.0016\n",
            "Epoch 32/50\n",
            "3/3 [==============================] - 0s 76ms/step - loss: 2.9492e-04 - val_loss: 0.0012\n"
          ]
        }
      ]
    },
    {
      "cell_type": "code",
      "source": [
        "# Plot training & validation loss values\n",
        "plt.plot(history3.history['loss'])\n",
        "plt.plot(history3.history['val_loss'])\n",
        "plt.title('Model Loss')\n",
        "plt.xlabel('Epoch')\n",
        "plt.ylabel('Loss')\n",
        "plt.legend(['Train', 'Validation'], loc='upper right')\n",
        "plt.show()"
      ],
      "metadata": {
        "colab": {
          "base_uri": "https://localhost:8080/",
          "height": 472
        },
        "id": "eY03XtC5oWGh",
        "outputId": "b1056d10-3d73-42e2-b271-12345b87f63b"
      },
      "execution_count": null,
      "outputs": [
        {
          "output_type": "display_data",
          "data": {
            "text/plain": [
              "<Figure size 640x480 with 1 Axes>"
            ],
            "image/png": "[encoded data removed]"
          },
          "metadata": {}
        }
      ]
    },
    {
      "cell_type": "code",
      "source": [
        "# Predict for 12 month afterwards\n",
        "n_past3 = 1\n",
        "n_month_for_prediction3 = 12\n",
        "predict_period_month3 = pd.date_range(list(train_datetime)[-n_past], periods=n_month_for_prediction3, freq='M').tolist()\n",
        "print(predict_period_month3)"
      ],
      "metadata": {
        "colab": {
          "base_uri": "https://localhost:8080/"
        },
        "id": "IUzbwYtMobVy",
        "outputId": "0803a7f7-13d9-4cda-a791-150ea9242322"
      },
      "execution_count": null,
      "outputs": [
        {
          "output_type": "stream",
          "name": "stdout",
          "text": [
            "[Timestamp('2022-12-31 00:00:00', freq='M'), Timestamp('2023-01-31 00:00:00', freq='M'), Timestamp('2023-02-28 00:00:00', freq='M'), Timestamp('2023-03-31 00:00:00', freq='M'), Timestamp('2023-04-30 00:00:00', freq='M'), Timestamp('2023-05-31 00:00:00', freq='M'), Timestamp('2023-06-30 00:00:00', freq='M'), Timestamp('2023-07-31 00:00:00', freq='M'), Timestamp('2023-08-31 00:00:00', freq='M'), Timestamp('2023-09-30 00:00:00', freq='M'), Timestamp('2023-10-31 00:00:00', freq='M'), Timestamp('2023-11-30 00:00:00', freq='M')]\n"
          ]
        }
      ]
    },
    {
      "cell_type": "code",
      "source": [
        "# Print the error metrics\n",
        "prediction3 = model3.predict(train_x3[-n_month_for_prediction3:])\n",
        "mse3 = mean_squared_error(train_y3[-n_month_for_prediction3:], prediction3)\n",
        "fmape3 = np.mean(np.abs((mse3) / prediction3)) * 100\n",
        "mape3 = f\"{(fmape3*100):.2f}%\"\n",
        "mae3 = np.mean(np.abs((mse3) / prediction3))\n",
        "\n",
        "print(\"MSE:\", mse3)\n",
        "print(\"MAPE:\", mape3)\n",
        "print(\"MAE:\", mae3)"
      ],
      "metadata": {
        "colab": {
          "base_uri": "https://localhost:8080/"
        },
        "id": "ngKIuzXXokt0",
        "outputId": "f032d2d0-ab65-4914-d8a0-ea9bee96d39c"
      },
      "execution_count": null,
      "outputs": [
        {
          "output_type": "stream",
          "name": "stdout",
          "text": [
            "1/1 [==============================] - 1s 1s/step\n",
            "MSE: 0.00025166180787939476\n",
            "MAPE: 4.65%\n",
            "MAE: 0.0004645706\n"
          ]
        }
      ]
    },
    {
      "cell_type": "code",
      "source": [
        "prediction_copies3 = np.repeat(prediction3, data_for_training.shape[1], axis=-1)\n",
        "y_pred_future3 = scaler.inverse_transform(prediction_copies3)[:,0]"
      ],
      "metadata": {
        "id": "G8Jai0B2pHkN"
      },
      "execution_count": null,
      "outputs": []
    },
    {
      "cell_type": "code",
      "source": [
        "forecast_dates_3 = []\n",
        "\n",
        "for time_i in predict_period_month3:\n",
        "    forecast_dates_3.append(time_i.date())\n",
        "\n",
        "df_forecast_3 = pd.DataFrame({'Date': forecast_dates_3, 'Total Visitor': y_pred_future3})\n",
        "df_forecast_3['Date'] = pd.to_datetime(df_forecast_3['Date'])\n",
        "\n",
        "sns.lineplot(data=original, x='datetime', y='total_visitor', label='Original')\n",
        "sns.lineplot(data=df_forecast_3, x='Date', y='Total Visitor', label='Forecast')\n",
        "\n",
        "plt.xlabel('Year')\n",
        "plt.ylabel('Total Visitor')\n",
        "plt.title('Forecasted Total Visitor')\n",
        "plt.legend()\n",
        "plt.show()\n",
        "\n",
        "# Generate the forecast dates from January 2023 to December 2023\n",
        "forecast_dates_3 = pd.date_range(start='2023-01-01', end='2023-12-01', freq='MS')\n",
        "\n",
        "# Create a list of forecast dates and prediction values\n",
        "data3 = list(zip(forecast_dates_3, y_pred_future3))\n",
        "\n",
        "# Create a list of headers for the table\n",
        "headers = ['Date', 'Prediction']\n",
        "table3 = tabulate(data3, headers=headers, tablefmt='fancy_grid')\n",
        "# Print the table\n",
        "print(table3)"
      ],
      "metadata": {
        "colab": {
          "base_uri": "https://localhost:8080/",
          "height": 961
        },
        "id": "40Zf6pn7pPg4",
        "outputId": "f47e8fad-61fc-42ad-d8ca-586f864ff19d"
      },
      "execution_count": null,
      "outputs": [
        {
          "output_type": "display_data",
          "data": {
            "text/plain": [
              "<Figure size 640x480 with 1 Axes>"
            ],
            "image/png": "[encoded data removed]"
          },
          "metadata": {}
        },
        {
          "output_type": "stream",
          "name": "stdout",
          "text": [
            "╒═════════════════════╤══════════════╕\n",
            "│ Date                │   Prediction │\n",
            "╞═════════════════════╪══════════════╡\n",
            "│ 2023-01-01 00:00:00 │       322268 │\n",
            "├─────────────────────┼──────────────┤\n",
            "│ 2023-02-01 00:00:00 │       327884 │\n",
            "├─────────────────────┼──────────────┤\n",
            "│ 2023-03-01 00:00:00 │       328522 │\n",
            "├─────────────────────┼──────────────┤\n",
            "│ 2023-04-01 00:00:00 │       329395 │\n",
            "├─────────────────────┼──────────────┤\n",
            "│ 2023-05-01 00:00:00 │       330394 │\n",
            "├─────────────────────┼──────────────┤\n",
            "│ 2023-06-01 00:00:00 │       331290 │\n",
            "├─────────────────────┼──────────────┤\n",
            "│ 2023-07-01 00:00:00 │       333144 │\n",
            "├─────────────────────┼──────────────┤\n",
            "│ 2023-08-01 00:00:00 │       336945 │\n",
            "├─────────────────────┼──────────────┤\n",
            "│ 2023-09-01 00:00:00 │       342565 │\n",
            "├─────────────────────┼──────────────┤\n",
            "│ 2023-10-01 00:00:00 │       350608 │\n",
            "├─────────────────────┼──────────────┤\n",
            "│ 2023-11-01 00:00:00 │       360927 │\n",
            "├─────────────────────┼──────────────┤\n",
            "│ 2023-12-01 00:00:00 │       371746 │\n",
            "╘═════════════════════╧══════════════╛\n"
          ]
        }
      ]
    },
    {
      "cell_type": "markdown",
      "source": [
        "# Conclusion"
      ],
      "metadata": {
        "id": "2JfNJYHMLxXi"
      }
    },
    {
      "cell_type": "code",
      "source": [
        "plt.figure(figsize=(15, 5))\n",
        "\n",
        "# Scenario 1\n",
        "plt.subplot(1, 3, 1)\n",
        "sns.lineplot(data=original, x='datetime', y='total_visitor', label='Original')\n",
        "sns.lineplot(data=df_forecast, x='Date', y='Total Visitor', label='Forecast')\n",
        "plt.xlabel('Date')\n",
        "plt.ylabel('Total Visitor')\n",
        "plt.title('Scenario 1 80% Train 20% Test')\n",
        "plt.legend()\n",
        "\n",
        "# Scenario 2\n",
        "plt.subplot(1, 3, 2)\n",
        "sns.lineplot(data=original, x='datetime', y='total_visitor', label='Original')\n",
        "sns.lineplot(data=df_forecast_2, x='Date', y='Total Visitor', label='Forecast')\n",
        "plt.xlabel('Date')\n",
        "plt.ylabel('Total Visitor')\n",
        "plt.title('Scenario 2 70% Train 30% Test')\n",
        "plt.legend()\n",
        "\n",
        "# Scenario 3\n",
        "plt.subplot(1, 3, 3)\n",
        "sns.lineplot(data=original, x='datetime', y='total_visitor', label='Original')\n",
        "sns.lineplot(data=df_forecast_3 , x='Date', y='Total Visitor', label='Forecast')\n",
        "plt.xlabel('Date')\n",
        "plt.ylabel('Total Visitor')\n",
        "plt.title('Scenario 3 60% Train 40% Test')\n",
        "plt.legend()\n",
        "\n",
        "plt.tight_layout()\n",
        "plt.show()\n",
        "\n",
        "# Define the data for each scenario\n",
        "scenario_data = [\n",
        "    {\n",
        "        'Scenario': 'Scenario 1',\n",
        "        'Model': 'GRU',\n",
        "        'MAE': mae,\n",
        "        'MSE': mse,\n",
        "        'MAPE': mape\n",
        "    },\n",
        "    {\n",
        "        'Scenario': 'Scenario 2',\n",
        "        'Model': 'GRU',\n",
        "        'MAE': mae2,\n",
        "        'MSE': mse2,\n",
        "        'MAPE': mape2\n",
        "    },\n",
        "    {\n",
        "        'Scenario': 'Scenario 3',\n",
        "        'Model': 'GRU',\n",
        "        'MAE': mae3,\n",
        "        'MSE': mse3,\n",
        "        'MAPE': mape3\n",
        "    }\n",
        "]\n",
        "\n",
        "# Create a DataFrame from the scenario data\n",
        "df = pd.DataFrame(scenario_data)\n",
        "\n",
        "# Convert DataFrame to a list of rows\n",
        "rows = df.values.tolist()\n",
        "\n",
        "# Create a list of headers\n",
        "headers = df.columns.tolist()\n",
        "\n",
        "# Generate the table\n",
        "table4 = tabulate(rows, headers=headers, tablefmt='fancy_grid')\n",
        "\n",
        "# Print the table\n",
        "print(table4)"
      ],
      "metadata": {
        "id": "UXX9jiZ5frW_",
        "colab": {
          "base_uri": "https://localhost:8080/",
          "height": 489
        },
        "outputId": "c07c456c-78e4-453d-b254-cee182e15a6d"
      },
      "execution_count": null,
      "outputs": [
        {
          "output_type": "display_data",
          "data": {
            "text/plain": [
              "<Figure size 1500x500 with 3 Axes>"
            ],
            "image/png": "[encoded data removed]"
          },
          "metadata": {}
        },
        {
          "output_type": "stream",
          "name": "stdout",
          "text": [
            "╒════════════╤═════════╤═════════════╤═════════════╤════════╕\n",
            "│ Scenario   │ Model   │         MAE │         MSE │ MAPE   │\n",
            "╞════════════╪═════════╪═════════════╪═════════════╪════════╡\n",
            "│ Scenario 1 │ GRU     │ 0.00031814  │ 0.000226276 │ 3.18%  │\n",
            "├────────────┼─────────┼─────────────┼─────────────┼────────┤\n",
            "│ Scenario 2 │ GRU     │ 0.000427032 │ 0.000265605 │ 4.27%  │\n",
            "├────────────┼─────────┼─────────────┼─────────────┼────────┤\n",
            "│ Scenario 3 │ GRU     │ 0.000464571 │ 0.000251662 │ 4.65%  │\n",
            "╘════════════╧═════════╧═════════════╧═════════════╧════════╛\n"
          ]
        }
      ]
    }
  ]
}